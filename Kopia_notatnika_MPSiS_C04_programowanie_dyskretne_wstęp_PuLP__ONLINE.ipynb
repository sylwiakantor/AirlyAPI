{
  "nbformat": 4,
  "nbformat_minor": 0,
  "metadata": {
    "colab": {
      "provenance": [],
      "collapsed_sections": [
        "h6LBTmF5JTRi",
        "RVU9wIGpJTR7",
        "2iACrtRJJTR7",
        "wt0H9cF_JTR8",
        "wF1LbNqcJE2p",
        "yPDOvDfN8fsw",
        "XghjRt385qpI",
        "Sq5um-TPI8ZR",
        "m-ia1sABiOYb"
      ],
      "include_colab_link": true
    },
    "kernelspec": {
      "name": "python3",
      "display_name": "Python 3"
    },
    "language_info": {
      "name": "python"
    },
    "gpuClass": "standard"
  },
  "cells": [
    {
      "cell_type": "markdown",
      "metadata": {
        "id": "view-in-github",
        "colab_type": "text"
      },
      "source": [
        "<a href=\"https://colab.research.google.com/github/sylwiakantor/AirlyAPI/blob/main/Kopia_notatnika_MPSiS_C04_programowanie_dyskretne_wst%C4%99p_PuLP__ONLINE.ipynb\" target=\"_parent\"><img src=\"https://colab.research.google.com/assets/colab-badge.svg\" alt=\"Open In Colab\"/></a>"
      ]
    },
    {
      "cell_type": "markdown",
      "metadata": {
        "id": "jlMuKgMfnOuu"
      },
      "source": [
        "# MPSiS - ćwiczenia 4: *Wstęp do programowania dyskretnego*. Materiał przygotowawczy do ćwiczeń\n",
        "\n",
        "**CEL**: zapoznanie z implementowaniem zadań programowania matematycznego, w których używamy nie tylko zmiennych ciągłych, ale też zmiennych dyskretnych.\n",
        "\n",
        "Materiał jest dostępny od 31.10.2022. Link do notebooka z rozwiązaniami należy odesłać w odpowiedniej [aktywności UPEL](https://upel.agh.edu.pl/mod/assign/view.php?id=60446) do 07.11.2022, godz. 8.00. Proszę **nie usuwać** uzyskanych danych wyjściowych!\n",
        "\n",
        "Do wykonania jest **jedno** zadanie. Na potrzeby rozwiązania oczywiście można używać dowolnych dodatkowych pakietów Pythona. Ale oczywiście implementacja zadań powinna być dokonywana z użyciem `PuLP`, a nie np. `docplex` itp.\n",
        "\n",
        "Wszelkie wątpliwości dotyczące notebooka, w tym sposobu rozwiązania zadań, można dyskutować publicznie - w szczególności użycie [forum](https://upel.agh.edu.pl/mod/forum/view.php?id=1512) zwiększa szansę, że prowadzący pomoże!"
      ]
    },
    {
      "cell_type": "markdown",
      "source": [
        "## Przygotowanie środowiska\n",
        "\n",
        "W celu wykonania zadań w notebooku należy go sobie skopiować do lokalnego konta Google. Następnie należy udostępnić prowadzącemu **link** do własnego notebooka (proszę ustawić prawa edycji dla osoby posługującej się tym linkiem!). Proszę nie wysyłać plików *.ipynb czy tp.\n",
        "\n",
        "W przypadku wykonywania zadań w zespole proszę umieścić odpowiednią informację (nt. składu zespołu) w pierwszej komórce tekstowej notebooka."
      ],
      "metadata": {
        "id": "h6LBTmF5JTRi"
      }
    },
    {
      "cell_type": "markdown",
      "metadata": {
        "id": "l6ybwxnBJTR6"
      },
      "source": [
        "## Wstęp\n",
        "\n",
        "W praktyce bez użycia programowania dyskretnego (czyli modelowania optymalizacyjnego, które angażuje zmienne całkowitoliczbowe, binarne lub po prostu używające dyskretnego - typowo: skończonego - zbioru wartości) nie da się modelować realistycznych zagadnień projektowania sieci i systemów. Z tego względu ćwiczeniu modelowania z użyciem zmiennych dyskretnych będą poświęcone trzy zajęcia.\n",
        "\n",
        "Należy zapoznać się z:\n",
        "\n",
        "*  [Problemem plecakowym](https://en.wikipedia.org/wiki/Knapsack_problem) (ang. *knapsack problem*). Mimo niespecjalnie sieciowego brzmienia jest to paradygmatyczny problem, którego rozszerzenia są stosowane do opisywania alokacji zasobów w systemach informatycznych. Części z Państwa problem może być znany z przedmiotu *Algorytmy i struktury danych* (ze względu na fakt, że problem plecakowy to paradygmatyczny problem dyskretny; poza tym on ma znane rozwiązanie pseudowielomianowe oparte na tzw. programowaniu dynamicznym oraz istnieje dla niego wiele heurystyk, algorytmów przybliżonycy/aproksymacyjnych itd.).\n",
        "*  Treścią konspektu nr 4: *Programowanie dyskretne w projektowaniu sieci i systemów* (on może nie być w pełni jasny przed Wykładem 6; warto jednak **tylko rzucić okiem**, żeby zobaczyć, do czego służy modelowanie dyskretne w sieciach).\n",
        "\n",
        "W tygodniu, w którym wykonują Państwo to ćwiczenie (tj. zadanie domowe przed zajęciami), odbędzie się Wykład 6, w ramach którego zostanie zrealizowany początkowy materiał z konspektu nr 4. Z tego powodu niniejsze ćwiczenia oraz zadania do rozwiązania są niedługie i mają tylko ilustracyjny charakter. W dużym stopniu wymagają głównie zrozumienia przedstawionego kodu oraz zastanowienia się nad rozwiązaniem."
      ]
    },
    {
      "cell_type": "markdown",
      "source": [
        "### Test-wejściówka na rozpoczęcie zajęć\n",
        "\n",
        "W trakcie pierwszych **5** min. ćwiczeń odbędzie się test sprawdzający opanowanie wybranego materiału z przedmiotu.\n",
        "*   Test odbędzie się za pośrednictwem platformy UPEL.\n",
        "*   W przypadku spóźnienia się **nie ma możliwości**  podejścia do testu w innym czasie, terminie, przedłużenia trwania itp.\n",
        "*   Test ma formę pięciu pytań jednokrotnego wyboru.\n",
        "*   Test jest tak skonstruowany, że po przejściu do kolejnego pytania nie da się powrócić do wcześniejszego pytania.\n",
        "*   Punkty z tego testu maję charakter bonusowy.\n",
        "\n",
        "Test obejmuje materiał z całości Wykładu 5 *Problemy alokacji zasobów i wymiarowania sieci* (konspekt nr 3) oraz Wykładu 6 *Programowanie dyskretne w projektowaniu sieci i systemów* (tylko w części odpowiadającej tym elementom konspektu nr 4, które zostaną zrealizowane na wykładzie w dn. 03.11.2022)."
      ],
      "metadata": {
        "id": "RVU9wIGpJTR7"
      }
    },
    {
      "cell_type": "markdown",
      "source": [
        "### Do przygotowania na zajęcia na żywo\n",
        "\n",
        "Poza przygotowaniem się z Wykładu 6 oraz wykonaniem ćwiczeń/zadania z niniejszego notebooka, żadne inne przygotowanie nie jest potrzebne. Przyda się znajomość następujących sformułowań:\n",
        "\n",
        "*   \t\tRóżne wersje [problemu plecakowego](https://en.wikipedia.org/wiki/Knapsack_problem) (ang. *knapsack problem*), tj. jednowymiarowy, wielowymiarowy, uogólniony.\n",
        "*       Problem projektowania topologii z rozkładem przepływów.\n",
        "*   \t\t[Problem przydziału](https://en.wikipedia.org/wiki/Assignment_problem) (ang. *assignment problem*).\n",
        "*       [Problem komiwojażera](https://en.wikipedia.org/wiki/Travelling_salesman_problem) (ang. *traveling salesman problem*).\n",
        "\n",
        "Warto jak zwykle zadbać o środowisko pracy, jeśli chce się pracować na własnym komputerze."
      ],
      "metadata": {
        "id": "2iACrtRJJTR7"
      }
    },
    {
      "cell_type": "code",
      "metadata": {
        "id": "tr5voGwJJTR9",
        "colab": {
          "base_uri": "https://localhost:8080/"
        },
        "outputId": "9898754c-8d99-4c51-f800-79532cc16aa2"
      },
      "source": [
        "#@title Biblioteki\n",
        "#@markdown * Tutaj użyjemy sobie specyficznego obiektu `namedtuple` do obsługi danych\n",
        "#@markdown * Mogą się nam też przydać różne solwery\n",
        "\n",
        "# Najpierw instalujemy solwery, potem importujemy PuLP!\n",
        "! apt-get install coinor-cbc  # CoinOR CBC\n",
        "! pip install cplex           # CPLEX\n",
        "! pip install gurobipy        # Gurobi\n",
        "\n",
        "from collections import namedtuple\n",
        "\n",
        "import pprint\n",
        "\n",
        "! pip install pulp\n",
        "import pulp as plp"
      ],
      "execution_count": 1,
      "outputs": [
        {
          "output_type": "stream",
          "name": "stdout",
          "text": [
            "Reading package lists... Done\n",
            "Building dependency tree       \n",
            "Reading state information... Done\n",
            "The following package was automatically installed and is no longer required:\n",
            "  libnvidia-common-460\n",
            "Use 'apt autoremove' to remove it.\n",
            "The following additional packages will be installed:\n",
            "  coinor-libcbc3 coinor-libcgl1 coinor-libclp1 coinor-libcoinutils3v5\n",
            "  coinor-libosi1v5\n",
            "The following NEW packages will be installed:\n",
            "  coinor-cbc coinor-libcbc3 coinor-libcgl1 coinor-libclp1\n",
            "  coinor-libcoinutils3v5 coinor-libosi1v5\n",
            "0 upgraded, 6 newly installed, 0 to remove and 4 not upgraded.\n",
            "Need to get 2,737 kB of archives.\n",
            "After this operation, 8,130 kB of additional disk space will be used.\n",
            "Get:1 http://archive.ubuntu.com/ubuntu bionic/universe amd64 coinor-libcoinutils3v5 amd64 2.10.14+repack1-1 [472 kB]\n",
            "Get:2 http://archive.ubuntu.com/ubuntu bionic/universe amd64 coinor-libosi1v5 amd64 0.107.9+repack1-1 [270 kB]\n",
            "Get:3 http://archive.ubuntu.com/ubuntu bionic/universe amd64 coinor-libclp1 amd64 1.16.11+repack1-1 [863 kB]\n",
            "Get:4 http://archive.ubuntu.com/ubuntu bionic/universe amd64 coinor-libcgl1 amd64 0.59.10+repack1-1 [433 kB]\n",
            "Get:5 http://archive.ubuntu.com/ubuntu bionic/universe amd64 coinor-libcbc3 amd64 2.9.9+repack1-1 [687 kB]\n",
            "Get:6 http://archive.ubuntu.com/ubuntu bionic/universe amd64 coinor-cbc amd64 2.9.9+repack1-1 [11.2 kB]\n",
            "Fetched 2,737 kB in 0s (18.2 MB/s)\n",
            "Selecting previously unselected package coinor-libcoinutils3v5.\n",
            "(Reading database ... 123942 files and directories currently installed.)\n",
            "Preparing to unpack .../0-coinor-libcoinutils3v5_2.10.14+repack1-1_amd64.deb ...\n",
            "Unpacking coinor-libcoinutils3v5 (2.10.14+repack1-1) ...\n",
            "Selecting previously unselected package coinor-libosi1v5.\n",
            "Preparing to unpack .../1-coinor-libosi1v5_0.107.9+repack1-1_amd64.deb ...\n",
            "Unpacking coinor-libosi1v5 (0.107.9+repack1-1) ...\n",
            "Selecting previously unselected package coinor-libclp1.\n",
            "Preparing to unpack .../2-coinor-libclp1_1.16.11+repack1-1_amd64.deb ...\n",
            "Unpacking coinor-libclp1 (1.16.11+repack1-1) ...\n",
            "Selecting previously unselected package coinor-libcgl1.\n",
            "Preparing to unpack .../3-coinor-libcgl1_0.59.10+repack1-1_amd64.deb ...\n",
            "Unpacking coinor-libcgl1 (0.59.10+repack1-1) ...\n",
            "Selecting previously unselected package coinor-libcbc3.\n",
            "Preparing to unpack .../4-coinor-libcbc3_2.9.9+repack1-1_amd64.deb ...\n",
            "Unpacking coinor-libcbc3 (2.9.9+repack1-1) ...\n",
            "Selecting previously unselected package coinor-cbc.\n",
            "Preparing to unpack .../5-coinor-cbc_2.9.9+repack1-1_amd64.deb ...\n",
            "Unpacking coinor-cbc (2.9.9+repack1-1) ...\n",
            "Setting up coinor-libcoinutils3v5 (2.10.14+repack1-1) ...\n",
            "Setting up coinor-libosi1v5 (0.107.9+repack1-1) ...\n",
            "Setting up coinor-libclp1 (1.16.11+repack1-1) ...\n",
            "Setting up coinor-libcgl1 (0.59.10+repack1-1) ...\n",
            "Setting up coinor-libcbc3 (2.9.9+repack1-1) ...\n",
            "Setting up coinor-cbc (2.9.9+repack1-1) ...\n",
            "Processing triggers for man-db (2.8.3-2ubuntu0.1) ...\n",
            "Processing triggers for libc-bin (2.27-3ubuntu1.6) ...\n",
            "Looking in indexes: https://pypi.org/simple, https://us-python.pkg.dev/colab-wheels/public/simple/\n",
            "Collecting cplex\n",
            "  Downloading cplex-22.1.0.0-cp37-cp37m-manylinux1_x86_64.whl (43.3 MB)\n",
            "\u001b[K     |████████████████████████████████| 43.3 MB 1.2 MB/s \n",
            "\u001b[?25hInstalling collected packages: cplex\n",
            "Successfully installed cplex-22.1.0.0\n",
            "Looking in indexes: https://pypi.org/simple, https://us-python.pkg.dev/colab-wheels/public/simple/\n",
            "Collecting gurobipy\n",
            "  Downloading gurobipy-9.5.2-cp37-cp37m-manylinux2014_x86_64.whl (11.5 MB)\n",
            "\u001b[K     |████████████████████████████████| 11.5 MB 33.4 MB/s \n",
            "\u001b[?25hInstalling collected packages: gurobipy\n",
            "Successfully installed gurobipy-9.5.2\n",
            "Looking in indexes: https://pypi.org/simple, https://us-python.pkg.dev/colab-wheels/public/simple/\n",
            "Collecting pulp\n",
            "  Downloading PuLP-2.7.0-py3-none-any.whl (14.3 MB)\n",
            "\u001b[K     |████████████████████████████████| 14.3 MB 162 kB/s \n",
            "\u001b[?25hInstalling collected packages: pulp\n",
            "Successfully installed pulp-2.7.0\n"
          ]
        }
      ]
    },
    {
      "cell_type": "markdown",
      "source": [
        "## Ćwiczenia"
      ],
      "metadata": {
        "id": "wt0H9cF_JTR8"
      }
    },
    {
      "cell_type": "markdown",
      "metadata": {
        "id": "wF1LbNqcJE2p"
      },
      "source": [
        "## Problem plecakowy\n",
        "\n",
        "Zaczniemy od implementacji prostego modelu z użyciem zmiennych dyskretnych. Użyjemy jako przykładowego problemu plecakowego."
      ]
    },
    {
      "cell_type": "markdown",
      "source": [
        "### Problem plecakowy - werbalizacja zagadnienia:\n",
        "\n",
        "1. Nasze zadanie polega na jak najlepszym użyciu plecaka (powiedzmy, że jesteśmy przemytnikiem i chcemy wiedzieć, co nam się najbardziej opłaci przy przenoszeniu różnych rzeczy przez zieloną granicę - tam sprzedamy przeniesione rzeczy na czarnym rynku).\n",
        "2. Plecak ma określoną nośność, tj. nie możemy do niego zapakować zbyt dużo rzeczy.\n",
        "3. Każda rzecz, którą możemy wrzucić do plecaka, ma swój ciężar (wagę, masę).\n",
        "4. Dysponujemy też określoną liczbą rzeczy różnego rodzaju (tj. nie możemy ich zapakować, ile nam się podoba).\n",
        "5. Chcemy użyć plecaka tak, żeby zabrać jak najcenniesze rzeczy. W przypadku każdej z rzeczy znamy jej wartość (użyteczność)."
      ],
      "metadata": {
        "id": "yPDOvDfN8fsw"
      }
    },
    {
      "cell_type": "code",
      "metadata": {
        "id": "cVovBW_I51RS"
      },
      "source": [
        "#@markdown Dane\n",
        "\n",
        "# Jeśli nośność jest wyrażona w kg, to zakładamy że potem ciężar różnych rzeczy też wyrażony w kg\n",
        "NOSNOSC_PLECAKA = 4\n",
        "\n",
        "RZECZY = [ # \"Nazwa\", \"Masa\", \"Liczba_max\", \"Wartosc\"\n",
        "    (\"Czekolada\", 0.1, 10, 10),\n",
        "    (\"Piwerko\", 0.5, 5, 3),\n",
        "    (\"Советское игристое\", 2, 1, 30),\n",
        "    (\"Kiełbacha\", 0.35, 3, 7),\n",
        "    (\"Jabłka\", 1, 10, 1),\n",
        "    (\"Papierochy\", 0.1, 100, 0.5)\n",
        "]"
      ],
      "execution_count": null,
      "outputs": []
    },
    {
      "cell_type": "markdown",
      "source": [
        "Jak to rozwiązać?"
      ],
      "metadata": {
        "id": "77UQBDzY5rzV"
      }
    },
    {
      "cell_type": "markdown",
      "source": [
        "### Problem plecakowy - zadanie optymalizacji:\n",
        "\n",
        "W celu zaimplementowania modelu musimy oczywiście najpierw przygotować odpowiedni program matematyczny:\n",
        "\n",
        "*   Indeksy: $ i = 1, 2, \\dots, N $: indeksujemy rzeczy, $N$ to liczba dostępnych rzeczy (w przykładowych danych $N=6$)\n",
        "*   Stałe:\n",
        "  *   $ W $: nośność plecaka (w przykładowych danych $W=4$; powiedzmy że domyślnie chodzi o 4 kg)\n",
        "  *   $ M(i) $: waga/ciężar rzeczy $i$ (w przykładowych danych $M(\\text{Czekolada}) = 0.1$, czyli czekolada waży 100 g)\n",
        "  *   $ K(i) $: liczba dostępnych rzeczy $i$ (w przykładowych danych $K(\\text{Czekolada}) = 10$, tj. możemy włożyć do plecaka co najwyżej 10 czekolad, bo widocznie więcej nie mamy)\n",
        "  *   $ U(i) $: wartość pojedynczej rzeczy $i$ (w przykładowych danych $U(\\text{Czekolada}) = 10$, tj. jedna czekolada widocznie byłaby do sprzedania na rynku w Görlitz za 10 EUR)\n",
        "*   Zmienne: $ x_i \\in \\mathbb{Z}_{+} $: mówi nam, jak wiele sztuk rzeczy $i$ włożymy do plecaka (np. $ x_{\\text{Czekolada}} = 2$ oznacza że bierzemy dwie czekolady, $ x_{\\text{Papierochy}} = 0$ oznacza, że w ogóle nie wkładamy papierosów itd.)\n",
        "*   Funkcja celu:\n",
        "$$ \\max \\, \\sum\\limits_i U(i)x_i $$\n",
        "*   Ograniczenia:\n",
        "  *   Nie możemy przekroczyć nośności plecaka:\n",
        "  $$ \\sum\\limits_i M(i)x_i \\leq W $$\n",
        "  *   Nie możemy wziąć większej liczby sztuk rzeczy danego rodzaju niż mamy dostępnych:\n",
        "  $$ \\forall_{i} \\quad x_i \\leq K(i) $$ \n",
        "\n",
        "To sformułowanie wygląda może, jak dostosowane tylko do anegdotki o przemytniku - czy któryś tak w ogóle liczy?) Warto jednak zastanowić się, jak można byłoby je przełożyć na kontekst (tele-)informatyczny (np. zadanie obliczeniowe z określonym kosztem w chmurze).\n",
        "\n",
        "Klasyczny problem plecakowy to taki, w którym $K(i) = 1$. W przypadku podanych wartości dopuszczamy też inne sytuacje (tj. niekiedy $K(i) > 1$), ale sprawdzimy jak będzie wyglądać rozwiązanie optymalne, jeśli rozwiązemy zadanie w wersji klasycznej i nieklasycznej.\n",
        "\n",
        "Problem plecakowy z definicji zakłada użycie zmiennych dyskretnych (tj. nie możemy dzielić butelki piwa na pół czy tp., dlatego założyliśmy $x_i \\in \\mathbb{Z}_{+}$). Sprawdzimy jednak także co się stanie, jeśli dopuścimy uciąglenie zmiennych, tj. tzw. relaksację liniową (gdy pozwolimy $x_i \\in \\mathbb{R}_{+}$).\n",
        "\n",
        "Proszę wykonać i przeanalizować podany niżej kod oraz opisy."
      ],
      "metadata": {
        "id": "XghjRt385qpI"
      }
    },
    {
      "cell_type": "code",
      "metadata": {
        "id": "oM4tXw_c1P7C"
      },
      "source": [
        "#@markdown Model problemu plecakowego\n",
        "\n",
        "def knapsack(OBJECTS, MAX_WEIGHT, **kwargs):\n",
        "  \"\"\"\n",
        "  Model problemu plecakowego\n",
        "    OBJECTS: lista rzeczy potencjalnie wkładanych do plecaka\n",
        "    MAX_WEIGHT: nośność plecaka\n",
        "  Można z pomocą dodatkowych flag zmodyfikować uniwersalne sformułowanie problemu plecakowego:\n",
        "    domyślnie ints = True (używamy zmiennych dyskretnych);\n",
        "      jeśli wprost zadamy ints = False pozwolimy na uciąglenie wartości zmiennych x\n",
        "    domyślnie classical = True (pozwalamy jak w klasycznym problemie plecakowym na włożenie co najwyżej jednej rzeczy danego rodzaju);\n",
        "      jeśli wprost zadamy classical = False wtedy zgadzamy się, że można włożyć więcej rzeczy jednego rodzaju\n",
        "  \"\"\"\n",
        "\n",
        "  dane = namedtuple(\"Rzecz\", [\"Nazwa\", \"Masa\", \"Liczba_max\", \"Wartosc\"])\n",
        "  rzeczy = [dane(*o) for o in OBJECTS]\n",
        "  print(\"Dane\")\n",
        "  pprint.pprint(rzeczy)\n",
        "  print()\n",
        "\n",
        "  model_knapsack = plp.LpProblem(name = 'Problem plecakowy', sense = plp.LpMaximize)\n",
        "\n",
        "  # Typ użytych zmiennych\n",
        "  zmienne_calkowitoliczbowe = kwargs.pop('ints', True)\n",
        "  typ_zmiennej = plp.LpInteger if zmienne_calkowitoliczbowe else plp.LpContinuous\n",
        "\n",
        "  # Informacja czy mamy problem klasyczny (czyli czy możemy wziąć maksymalnie jedną rzecz danego typu)\n",
        "  problem_klasyczny = kwargs.pop('classical', True)\n",
        "\n",
        "  # Definicja zmiennych\n",
        "  ile_rzeczy = plp.LpVariable.dicts(\n",
        "      \"x\",\n",
        "      [item.Nazwa for item in rzeczy], # indeksowanie po rzeczach (tzn. po ich nazwach)\n",
        "      lowBound = 0, # niby niepotrzebne, bo mamy maksymalizację, ale warto dodać dla jasności\n",
        "      cat = typ_zmiennej # typ zmiennej to całkowitoliczbowa (domyślnie) albo uciąglona\n",
        "  )\n",
        "\n",
        "  # Funkcja celu\n",
        "  sumaryczna_wartosc_w_plecaku = plp.lpSum(\n",
        "      item.Wartosc * ile_rzeczy[item.Nazwa]\n",
        "        for item in rzeczy\n",
        "  ) \n",
        "  model_knapsack += sumaryczna_wartosc_w_plecaku, \"wartość\"\n",
        "\n",
        "  # Ograniczenie na nośność\n",
        "  sumaryczny_ciezar_plecaka = plp.lpSum(\n",
        "      item.Masa * ile_rzeczy[item.Nazwa]\n",
        "        for item in rzeczy\n",
        "  )\n",
        "  model_knapsack += sumaryczny_ciezar_plecaka <= MAX_WEIGHT, \"nośność\"\n",
        "\n",
        "  # Ograniczenia na liczbę rzeczy\n",
        "  for item in rzeczy:\n",
        "    ogr_gorne = 1 if problem_klasyczny else item.Liczba_max\n",
        "    model_knapsack += ile_rzeczy[item.Nazwa] <= ogr_gorne, f\"ile_max_{item.Nazwa}\"\n",
        "\n",
        "  print('-'*5)\n",
        "  print('Model:')\n",
        "  print('-'*5)\n",
        "  print(model_knapsack)\n",
        "\n",
        "  model_knapsack.solve()\n",
        "\n",
        "  print('-'*5)\n",
        "  print('Rozwiązanie')\n",
        "  print('-'*5)\n",
        "\n",
        "  if model_knapsack.status:\n",
        "      print('Znaleziono rozwiązanie optymalne.')\n",
        "      print('Do plecaka wkładamy:')\n",
        "      for item in rzeczy:\n",
        "        if ile_rzeczy[item.Nazwa].varValue:\n",
        "          print(item.Nazwa, \"sztuk: \", ile_rzeczy[item.Nazwa].varValue)\n",
        "      print(\"Waga plecaka: \", plp.value(sumaryczny_ciezar_plecaka))\n",
        "      print(\"Wartość (użyteczność) plecaka: \", plp.value(sumaryczna_wartosc_w_plecaku))\n",
        "      print(\"Czas rozwiązania:\", model_knapsack.solutionTime)\n",
        "\n",
        "  return model_knapsack"
      ],
      "execution_count": null,
      "outputs": []
    },
    {
      "cell_type": "markdown",
      "source": [
        "W zależności od różnych wartości flag `ints` oraz `classical` w powyższym kodzie na różne sposoby zdefiniowano typ zmiennych, jak również ograniczenie górne na wartości, które mogą przyjmować. Poniżej rozpisano odpowiednie fragmenty kodu w taki sposób, w jaki można byłoby go zadać, gdybyśmy z góry mieli ustalone konkretne kombinacje flag.\n",
        "\n",
        "Mamy cztery możliwości:\n",
        "*   Wersja pełna problemu plecakowego (nieklasyczna, bo zmienne nie są binarne, ale w ogóle całkowitoliczbowe), zgodna z podanym wyżej sformułowaniem matematycznym (`ints = True` oraz `classical = False`): \n",
        "```python\n",
        "  ile_rzeczy = plp.LpVariable.dicts(\n",
        "      \"x\",\n",
        "      [item.Nazwa for item in rzeczy],\n",
        "      lowBound = 0,\n",
        "      cat = plp.LpInteger\n",
        "  )\n",
        "\n",
        "  ...\n",
        "\n",
        "  for item in rzeczy:\n",
        "      model_knapsack += ile_rzeczy[item.Nazwa] <= item.Liczba_max, f\"ile_max_{item.Nazwa}\"\n",
        "```\n",
        "*   Wersja klasyczna problemu plecakowego - czyli wersja binarna (`ints = True` oraz `classical = True`):\n",
        "```python\n",
        "  ile_rzeczy = plp.LpVariable(\n",
        "      \"x\",\n",
        "      [item.Nazwa for item in rzeczy],\n",
        "      cat = plp.LpBinary\n",
        "  )\n",
        "```\n",
        "Tutaj ze względu na binarność zmiennych ograniczenia:\n",
        "```python\n",
        "    for item in rzeczy:\n",
        "      model_knapsack += ile_rzeczy[item.Nazwa] <= 1, f\"ile_max_{item.Nazwa}\"\n",
        "```\n",
        "byłyby nadmiarowe\n",
        "*   Wersja uciąglona - relaksacja liniowa problemu klasycznego (`ints = False` oraz `classical = True`):\n",
        "```python\n",
        "  ile_rzeczy = plp.LpVariable(\n",
        "      \"x\",\n",
        "      [item.Nazwa for item in rzeczy],\n",
        "      lowBound = 0,\n",
        "      upBound = 1,\n",
        "      cat = plp.LpContinuous\n",
        "  )\n",
        "```\n",
        "Tutaj nie potrzeba ograniczenia:\n",
        "```python\n",
        "    for item in rzeczy:\n",
        "      model_knapsack += ile_rzeczy[item.Nazwa] <= 1, f\"ile_max_{item.Nazwa}\"\n",
        "```\n",
        "gdyż ograniczenie górne na zmienne zostalo zadane z użyciem `upBound = 1` w definicji `x`\n",
        "*   Wersja uciąglona z możliwością użycia większej liczby sztuk niż jeden (`ints = False` oraz `classical = False`):\n",
        "```python\n",
        "  ile_rzeczy = plp.LpVariable(\n",
        "      \"x\",\n",
        "      [item.Nazwa for item in rzeczy],\n",
        "      lowBound = 0,\n",
        "      cat = plp.LpContinuous\n",
        "  )\n",
        "\n",
        "  ...\n",
        "\n",
        "    for item in rzeczy:\n",
        "      model_knapsack += ile_rzeczy[item.Nazwa] <= item.Liczba_max, f\"ile_max_{item.Nazwa}\"\n",
        "```"
      ],
      "metadata": {
        "id": "rm0fO8Bx4yQP"
      }
    },
    {
      "cell_type": "markdown",
      "source": [
        "Po przeanalizowaniu kodu proszę wykonać poniższy kod i zastanowić się, dlaczego uzyskujemy wyniki o określonych wartościach - przy użyciu każdej z możliwych kombinacji wartości flag logicznych `ints` oraz `classical`.\n",
        "\n",
        "1. Proszę rozwiązać różne wersje problemu z podanymi wcześniej przykładowymi danymi. Poniżej umieszczone cztery możliwe wersje w określonej kolejności (uszeregowane ze względu na wartość optymalną funkcji celu).\n",
        "2. Proszę porównać rozwiązanie optymalne zadania z użyciem zmiennych dyskretnych oraz w sytuacji zrelaksowania tych zmiennych - jest to tzw. **relaksacja liniowa**, która polega na uciągleniu zmiennych (tj. zamiany typu na ciągły).\n",
        "3. Proszę również sprawdzić, jak wygląda rozwiązanie w przypadku zrelaksowania ograniczenia górnego na wartość zmiennych decyzyjnych (zmieniamy ograniczenie górne wartości z 1 na wartość `Liczba_max`).\n",
        "4. Warto również zwrócić uwagę na czas rozwiązania."
      ],
      "metadata": {
        "id": "5eJYr7ZH4pAX"
      }
    },
    {
      "cell_type": "code",
      "metadata": {
        "id": "hSp4dTKh24OX"
      },
      "source": [
        "#@markdown Problem klasyczny, tj. same zmienne binarne\n",
        "\n",
        "# Moglibyśmy po prostu: knapsack(RZECZY, NOSNOSC_PLECAKA, log_output=True, float_precision=2)\n",
        "model_knapsack = knapsack(RZECZY, NOSNOSC_PLECAKA, ints=True, classical=True, msg = True, mip = True)"
      ],
      "execution_count": null,
      "outputs": []
    },
    {
      "cell_type": "markdown",
      "source": [
        "Warto wybrać najszybszy solwer i liczyć z jego udziałem. Inna sprawa, że dla tak małego problemu to pomiar raczej jest mało wiarygodny :) "
      ],
      "metadata": {
        "id": "i7HWtHrxzhZF"
      }
    },
    {
      "cell_type": "code",
      "source": [
        "#@markdown W przypadku programowania dyskretnego możemy pamiętać o użyciu lepszych solwerów niż domyślny - problemy dyskretne (duże) mogą się naprawdę dłuuuuugo liczyć...\n",
        "\n",
        "for solw in plp.listSolvers(onlyAvailable=True):\n",
        "  print(f'Solwer: {solw}')\n",
        "  solution = model_knapsack.solve(solver = plp.getSolver(solw))\n",
        "  if solution == 1:\n",
        "      print(f'Czas rozwiązywania: {model_knapsack.solutionTime}')\n",
        "  else:\n",
        "      print('Brak rozwiązania')\n",
        "  print()"
      ],
      "metadata": {
        "id": "vKWvn5w2zgwT"
      },
      "execution_count": null,
      "outputs": []
    },
    {
      "cell_type": "code",
      "metadata": {
        "id": "c8pBzdwE5goS"
      },
      "source": [
        "#@markdown Problem zrelaksowany, ale zmienne $x_i \\in [0,1]$\n",
        "\n",
        "model_knapsack = knapsack(RZECZY, NOSNOSC_PLECAKA, ints=False, classical=True, msg = True, mip = True)"
      ],
      "execution_count": null,
      "outputs": []
    },
    {
      "cell_type": "code",
      "metadata": {
        "id": "Pil_7Vcf5kGf"
      },
      "source": [
        "#@markdown Zmienne całkowitoliczbowe: problem w wersji pełnej, której sformułowanie matematyczne podano wyżej\n",
        "\n",
        "model_knapsack = knapsack(RZECZY, NOSNOSC_PLECAKA, ints=True, classical=False, msg = True, mip = True)"
      ],
      "execution_count": null,
      "outputs": []
    },
    {
      "cell_type": "code",
      "metadata": {
        "id": "qrC_HpGv5nIE"
      },
      "source": [
        "#@markdown Problem zrelaksowany i dopuszczamy $x_i \\geq 1$\n",
        "\n",
        "model_knapsack = knapsack(RZECZY, NOSNOSC_PLECAKA, ints=False, classical=False, msg = True, mip = True)"
      ],
      "execution_count": null,
      "outputs": []
    },
    {
      "cell_type": "markdown",
      "metadata": {
        "id": "Sq5um-TPI8ZR"
      },
      "source": [
        "### Zadanie 1: Eksperymentowanie z problemem plecakowym\n",
        "\n",
        "Proszę:\n",
        "\n",
        "1. Rozszerzyć sformułowanie problemu plecakowego w taki sposób, żeby uwzględnić nie tylko wagę - ale również rozmiary umieszczanych w plecaku przedmiotów. To znaczy:\n",
        "  *   założyć, że każdy obiekt ma określoną szerokość;\n",
        "  *   założyć, że plecak pomieści obiekty o określonej sumarycznej szerokości i jednocześnie o określonej sumarycznej masie.\n",
        "2. Proszę rozwiązać tak rozszerzony model dla wymyślonych przez siebie danych (im bliższe rzeczywistości, tym intuicyjnie lepiej zrozumiałe rozwiązanie)."
      ]
    },
    {
      "cell_type": "code",
      "metadata": {
        "id": "0lHedddZtV8L"
      },
      "source": [
        "#@title ROZWIĄZANIE ZADANIA 1\n",
        "\n",
        "# TODO"
      ],
      "execution_count": null,
      "outputs": []
    },
    {
      "cell_type": "markdown",
      "metadata": {
        "id": "m-ia1sABiOYb"
      },
      "source": [
        "## Przygotowanie do Q&A\n",
        "\n",
        "Proszę zamieścić na [forum](https://upel.agh.edu.pl/mod/forum/view.php?id=1512) wszelkie pytania i wątpliwości, które mają być przedmiotem dyskusji w trakcie zajęć."
      ]
    }
  ]
}